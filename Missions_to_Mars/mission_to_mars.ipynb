{
 "cells": [
  {
   "cell_type": "markdown",
   "metadata": {},
   "source": [
    "## Scrape websites for the latest information about planet Mars"
   ]
  },
  {
   "cell_type": "code",
   "execution_count": 2,
   "metadata": {},
   "outputs": [],
   "source": [
    "#import required libraries\n",
    "import os\n",
    "from splinter import Browser\n",
    "from bs4 import BeautifulSoup as bs\n",
    "import time\n",
    "from selenium import webdriver  \n",
    "import requests as req\n",
    "import pandas as pd\n",
    "from lxml import html"
   ]
  },
  {
   "cell_type": "markdown",
   "metadata": {},
   "source": [
    "### Get news from https://mars.nasa.gov/news/"
   ]
  },
  {
   "cell_type": "code",
   "execution_count": 3,
   "metadata": {
    "tags": []
   },
   "outputs": [
    {
     "output_type": "stream",
     "name": "stdout",
     "text": "8 Martian Postcards to Celebrate Curiosity's Landing Anniversary\nThe NASA rover touched down eight years ago, on Aug. 5, 2012, and will soon be joined by a second rover, Perseverance.\n"
    }
   ],
   "source": [
    "#Chromedriver execute\n",
    "executable_path = {'executable_path': 'chromedriver.exe'}\n",
    "browser = Browser('chrome', **executable_path, headless=True)\n",
    "#visit first url\n",
    "url=\"https://mars.nasa.gov/news/\"\n",
    "browser.visit(url)\n",
    "#save html and assign parser\n",
    "html=browser.html\n",
    "soup = bs(html, \"html.parser\" )\n",
    "#get first title from the url\n",
    "news_title = soup.find('li',class_=\"slide\").find('div', class_=\"content_title\").text\n",
    "print(news_title)\n",
    "# get first paragraph under first title\n",
    "news_p = soup.find('li',class_=\"slide\").find('div', class_=\"article_teaser_body\").text\n",
    "print(news_p)"
   ]
  },
  {
   "cell_type": "markdown",
   "metadata": {},
   "source": [
    "### Get featured image from https://www.jpl.nasa.gov/spaceimages/"
   ]
  },
  {
   "cell_type": "code",
   "execution_count": 4,
   "metadata": {
    "tags": []
   },
   "outputs": [
    {
     "output_type": "stream",
     "name": "stdout",
     "text": "https://www.jpl.nasa.gov/spaceimages/images/largesize/PIA16606_hires.jpg\n"
    }
   ],
   "source": [
    "# url2\n",
    "url2 = \"https://www.jpl.nasa.gov/spaceimages/\"\n",
    "#visit url2 click on full image button, wait for a response\n",
    "browser.visit(url2)\n",
    "browser.find_by_id('full_image').click()\n",
    "time.sleep(5)\n",
    "\n",
    "#find and click on more info button\n",
    "browser.links.find_by_partial_text('more info').click()\n",
    "\n",
    "#get an image url\n",
    "featured_image_url = browser.find_by_xpath(\"//img[@class='main_image']\")._element.get_attribute(\"src\")\n",
    "\n",
    "print(featured_image_url)"
   ]
  },
  {
   "cell_type": "markdown",
   "metadata": {},
   "source": [
    "### Get Mars weather from https://twitter.com/marswxreport?lang=en"
   ]
  },
  {
   "cell_type": "code",
   "execution_count": 9,
   "metadata": {},
   "outputs": [],
   "source": [
    "#url3 for mars weather \n",
    "url3 = \"https://twitter.com/marswxreport?lang=en\"\n",
    "#visit url save html and close\n",
    "\n",
    "# splinter didn't give me expected result, so I switched to selenium\n",
    "# browser.visit(url3)\n",
    "# browser.url\n",
    "# html = browser.html\n",
    "\n",
    "driver = webdriver.Chrome()\n",
    "driver.get(url3)\n",
    "html = driver.page_source\n",
    "driver.close()\n",
    "\n",
    "#scrap tweets into a list\n",
    "soup = bs(html, 'html.parser')\n",
    "tweets = soup.find_all('div', class_=\"css-901oao r-hkyrab r-1qd0xha r-a023e6 r-16dba41 r-ad9z0x r-bcqeeo r-bnwqim r-qvutc0\")\n"
   ]
  },
  {
   "cell_type": "markdown",
   "metadata": {},
   "source": [
    "##### *Note: if result is not weather data change tweets[0] to tweets[1]"
   ]
  },
  {
   "cell_type": "code",
   "execution_count": 10,
   "metadata": {
    "tags": []
   },
   "outputs": [
    {
     "output_type": "stream",
     "name": "stdout",
     "text": "InSight sol 598 (2020-08-01) low -91.6ºC (-132.9ºF) high -15.1ºC (4.8ºF)\nwinds from the WNW at 7.1 m/s (15.8 mph) gusting to 19.2 m/s (43.0 mph)\npressure at 7.90 hPa\n"
    }
   ],
   "source": [
    "#find required tweet with weather info\n",
    "mars_weather = tweets[0].text\n",
    "print(mars_weather)"
   ]
  },
  {
   "cell_type": "markdown",
   "metadata": {},
   "source": [
    "### Get Mars Facts table structure from https://space-facts.com/mars/"
   ]
  },
  {
   "cell_type": "code",
   "execution_count": 11,
   "metadata": {},
   "outputs": [],
   "source": [
    "# url4 mars facts\n",
    "url4 = \"https://space-facts.com/mars/\"\n",
    "\n",
    "# use pandas to find all tables on website\n",
    "df_list = pd.read_html(url4)\n",
    "#pick first table\n",
    "table_df = df_list[0]\n",
    "#rename columns\n",
    "table_df = table_df.rename(columns={0: 'Parameter', 1: 'Value'})\n",
    "#\n",
    "html_table = table_df.to_html()"
   ]
  },
  {
   "cell_type": "markdown",
   "metadata": {},
   "source": [
    "##### *Note: table structure used in index.html "
   ]
  },
  {
   "cell_type": "code",
   "execution_count": 12,
   "metadata": {
    "tags": []
   },
   "outputs": [
    {
     "output_type": "stream",
     "name": "stdout",
     "text": "<table border=\"1\" class=\"dataframe\">\n  <thead>\n    <tr style=\"text-align: right;\">\n      <th></th>\n      <th>Parameter</th>\n      <th>Value</th>\n    </tr>\n  </thead>\n  <tbody>\n    <tr>\n      <th>0</th>\n      <td>Equatorial Diameter:</td>\n      <td>6,792 km</td>\n    </tr>\n    <tr>\n      <th>1</th>\n      <td>Polar Diameter:</td>\n      <td>6,752 km</td>\n    </tr>\n    <tr>\n      <th>2</th>\n      <td>Mass:</td>\n      <td>6.39 × 10^23 kg (0.11 Earths)</td>\n    </tr>\n    <tr>\n      <th>3</th>\n      <td>Moons:</td>\n      <td>2 (Phobos &amp; Deimos)</td>\n    </tr>\n    <tr>\n      <th>4</th>\n      <td>Orbit Distance:</td>\n      <td>227,943,824 km (1.38 AU)</td>\n    </tr>\n    <tr>\n      <th>5</th>\n      <td>Orbit Period:</td>\n      <td>687 days (1.9 years)</td>\n    </tr>\n    <tr>\n      <th>6</th>\n      <td>Surface Temperature:</td>\n      <td>-87 to -5 °C</td>\n    </tr>\n    <tr>\n      <th>7</th>\n      <td>First Record:</td>\n      <td>2nd millennium BC</td>\n    </tr>\n    <tr>\n      <th>8</th>\n      <td>Recorded By:</td>\n      <td>Egyptian astronomers</td>\n    </tr>\n  </tbody>\n</table>\n"
    }
   ],
   "source": [
    "# clean html_table from '\\n' values\n",
    "print(html_table)"
   ]
  },
  {
   "cell_type": "markdown",
   "metadata": {},
   "source": [
    "### Get Mars Facts table data from https://space-facts.com/mars/"
   ]
  },
  {
   "cell_type": "code",
   "execution_count": 13,
   "metadata": {},
   "outputs": [
    {
     "output_type": "execute_result",
     "data": {
      "text/plain": "[{'title': 'Equatorial Diameter:', 'value': '6,792 km'},\n {'title': 'Polar Diameter:', 'value': '6,752 km'},\n {'title': 'Mass:', 'value': '6.39 × 10^23 kg (0.11 Earths)'},\n {'title': 'Moons:', 'value': '2 (Phobos & Deimos)'},\n {'title': 'Orbit Distance:', 'value': '227,943,824 km (1.38 AU)'},\n {'title': 'Orbit Period:', 'value': '687 days (1.9 years)'},\n {'title': 'Surface Temperature:', 'value': '-87 to -5 °C'},\n {'title': 'First Record:', 'value': '2nd millennium BC'},\n {'title': 'Recorded By:', 'value': 'Egyptian astronomers'}]"
     },
     "metadata": {},
     "execution_count": 13
    }
   ],
   "source": [
    "browser.visit(url4)\n",
    "\n",
    "html = browser.html\n",
    "soup = bs(html, \"html.parser\")\n",
    "\n",
    "tables = soup.findChildren('table')\n",
    "table_data=[]\n",
    "my_table = tables[0]\n",
    "rows = my_table.findChildren(['th', 'tr'])   \n",
    "\n",
    "for row in rows:\n",
    "    title = row.find('td', class_=\"column-1\").text.strip()\n",
    "    value = row.find('td', class_=\"column-2\").text.strip()\n",
    "    table_data.append({'title': title, 'value': value})\n",
    "\n",
    "table_data\n"
   ]
  },
  {
   "cell_type": "markdown",
   "metadata": {},
   "source": [
    "### Get Mars hemispheres images from https://astrogeology.usgs.gov"
   ]
  },
  {
   "cell_type": "code",
   "execution_count": 14,
   "metadata": {},
   "outputs": [],
   "source": [
    "#url5 mars hemispheres\n",
    "url5 = \"https://astrogeology.usgs.gov/search/results?q=hemisphere+enhanced&k1=target&v1=Mars\"\n",
    "\n",
    "browser.visit(url5)\n",
    "browser.url\n",
    "html = browser.html\n",
    "#assign parser, scrap list of images\n",
    "soup = bs(html, \"html.parser\")\n",
    "images = soup.find_all('div', class_=\"description\")\n",
    "#use link as f-string\n",
    "link = f\"https://astrogeology.usgs.gov\""
   ]
  },
  {
   "cell_type": "code",
   "execution_count": 15,
   "metadata": {},
   "outputs": [],
   "source": [
    "# loop thorugh images list, pick href and add it to link, visit new link, scrap for image url and title, append to a list:\n",
    "hemisphere_image_urls = []\n",
    "for image in images:\n",
    "    img_link = f\"{link}{image.find('a')['href']}\"\n",
    "    browser.visit(img_link)\n",
    "    img_url = browser.find_by_xpath(\"//img[@class='wide-image']\")._element.get_attribute(\"src\")\n",
    "    title = browser.find_by_xpath(\"//h2[@class='title']\").text\n",
    "    title = title.rstrip('Enhanced')\n",
    "    hemisphere_image_urls.append({\"title\" : title, \"img_url\" : img_url})\n"
   ]
  },
  {
   "cell_type": "markdown",
   "metadata": {},
   "source": [
    "### Insert all information about planet Mars to a dictionary "
   ]
  },
  {
   "cell_type": "code",
   "execution_count": 22,
   "metadata": {},
   "outputs": [],
   "source": [
    "#create a dictionary for DB\n",
    "mars_website_dict={\n",
    "'news_title': news_title, 'news_paragraph': news_p, 'featured_image_url': featured_image_url, \n",
    "'mars_weather': mars_weather, 'row1_title': table_data[0]['title'], 'row1_value': table_data[0]['value'], 'row2_title': table_data[1]['title'], 'row2_value': table_data[1]['value'], 'row3_title': table_data[2]['title'], 'row3_value': table_data[2]['value'], 'row4_title': table_data[3]['title'], 'row4_value': table_data[3]['value'], 'row5_title': table_data[4]['title'], 'row5_value': table_data[4]['value'], 'row6_title': table_data[5]['title'], 'row6_value': table_data[5]['value'], 'row7_title': table_data[6]['title'], 'row7_value': table_data[6]['value'], 'row8_title': table_data[7]['title'], 'row8_value': table_data[7]['value'], 'row9_title': table_data[8]['title'], 'row9_value': table_data[8]['value'], \n",
    "'url1_title': hemisphere_image_urls[0]['title'], 'url1_img': hemisphere_image_urls[0]['img_url'],\n",
    "'url2_title': hemisphere_image_urls[1]['title'], 'url2_img': hemisphere_image_urls[1]['img_url'],\n",
    "'url3_title': hemisphere_image_urls[2]['title'], 'url3_img': hemisphere_image_urls[2]['img_url'],\n",
    "'url4_title': hemisphere_image_urls[3]['title'], 'url4_img': hemisphere_image_urls[3]['img_url']              \n",
    "}\n"
   ]
  },
  {
   "cell_type": "code",
   "execution_count": 23,
   "metadata": {},
   "outputs": [
    {
     "output_type": "execute_result",
     "data": {
      "text/plain": "{'news_title': \"8 Martian Postcards to Celebrate Curiosity's Landing Anniversary\",\n 'news_paragraph': 'The NASA rover touched down eight years ago, on Aug. 5, 2012, and will soon be joined by a second rover, Perseverance.',\n 'featured_image_url': 'https://www.jpl.nasa.gov/spaceimages/images/largesize/PIA16606_hires.jpg',\n 'mars_weather': 'InSight sol 598 (2020-08-01) low -91.6ºC (-132.9ºF) high -15.1ºC (4.8ºF)\\nwinds from the WNW at 7.1 m/s (15.8 mph) gusting to 19.2 m/s (43.0 mph)\\npressure at 7.90 hPa',\n 'row1_title': 'Equatorial Diameter:',\n 'row1_value': '6,792 km',\n 'row2_title': 'Polar Diameter:',\n 'row2_value': '6,752 km',\n 'row3_title': 'Mass:',\n 'row3_value': '6.39 × 10^23 kg (0.11 Earths)',\n 'row4_title': 'Moons:',\n 'row4_value': '2 (Phobos & Deimos)',\n 'row5_title': 'Orbit Distance:',\n 'row5_value': '227,943,824 km (1.38 AU)',\n 'row6_title': 'Orbit Period:',\n 'row6_value': '687 days (1.9 years)',\n 'row7_title': 'Surface Temperature:',\n 'row7_value': '-87 to -5 °C',\n 'row8_title': 'First Record:',\n 'row8_value': '2nd millennium BC',\n 'row9_title': 'Recorded By:',\n 'row9_value': 'Egyptian astronomers',\n 'url1_title': 'Cerberus Hemisphere ',\n 'url1_img': 'https://astrogeology.usgs.gov/cache/images/f5e372a36edfa389625da6d0cc25d905_cerberus_enhanced.tif_full.jpg',\n 'url2_title': 'Schiaparelli Hemisphere ',\n 'url2_img': 'https://astrogeology.usgs.gov/cache/images/3778f7b43bbbc89d6e3cfabb3613ba93_schiaparelli_enhanced.tif_full.jpg',\n 'url3_title': 'Syrtis Major Hemisphere ',\n 'url3_img': 'https://astrogeology.usgs.gov/cache/images/555e6403a6ddd7ba16ddb0e471cadcf7_syrtis_major_enhanced.tif_full.jpg',\n 'url4_title': 'Valles Marineris Hemisphere ',\n 'url4_img': 'https://astrogeology.usgs.gov/cache/images/b3c7c6c9138f57b4756be9b9c43e3a48_valles_marineris_enhanced.tif_full.jpg'}"
     },
     "metadata": {},
     "execution_count": 23
    }
   ],
   "source": [
    "mars_website_dict"
   ]
  },
  {
   "cell_type": "code",
   "execution_count": null,
   "metadata": {},
   "outputs": [],
   "source": []
  },
  {
   "cell_type": "code",
   "execution_count": null,
   "metadata": {},
   "outputs": [],
   "source": []
  },
  {
   "cell_type": "code",
   "execution_count": null,
   "metadata": {},
   "outputs": [],
   "source": []
  }
 ],
 "metadata": {
  "kernelspec": {
   "display_name": "Python 3",
   "language": "python",
   "name": "python3"
  },
  "language_info": {
   "codemirror_mode": {
    "name": "ipython",
    "version": 3
   },
   "file_extension": ".py",
   "mimetype": "text/x-python",
   "name": "python",
   "nbconvert_exporter": "python",
   "pygments_lexer": "ipython3",
   "version": "3.7.6"
  }
 },
 "nbformat": 4,
 "nbformat_minor": 2
}